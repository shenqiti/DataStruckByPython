{
 "cells": [
  {
   "cell_type": "markdown",
   "metadata": {},
   "source": [
    "# ArrayList Excecise\n"
   ]
  },
  {
   "cell_type": "markdown",
   "metadata": {},
   "source": [
    "### Ex1：挖雷游戏\n",
    "\n",
    "我们来写一个小程序：\n",
    "\n",
    "<img src=\"../images/ch02/mine.jpg\" width=\"200\"/> \n",
    "\n",
    "程序接收三个参数，M，N和p，然后生成一个M * N的矩阵，然后每一个cell有p的概率是地雷。生成矩阵后，再计算出每一个cell周围地雷的数量。"
   ]
  },
  {
   "cell_type": "code",
   "execution_count": 1,
   "metadata": {
    "collapsed": true
   },
   "outputs": [],
   "source": [
    "import random\n",
    "\n",
    "def minesweeper(m, n, p):\n",
    "    board = [[None] * (n+2) for i in range(m+2)]\n",
    "    for i in range(1, m + 1):\n",
    "        for j in range(1, n + 1):\n",
    "            r = random.random()\n",
    "            board[i][j] = -1 if r < p else 0\n",
    "\n",
    "    for i in range(1, m + 1):\n",
    "        for j in range(1, n + 1):\n",
    "            print(\"*\", end=\" \") if board[i][j] == -1 else print(\".\", end=\" \")\n",
    "        print()\n",
    "        \n",
    "    for i in range(1, m + 1):\n",
    "        for j in range(1, n + 1):\n",
    "            if (board[i][j] != -1):\n",
    "                for ii in range(i-1, i+2):\n",
    "                    for jj in range(j-1, j+2):\n",
    "                        if (board[ii][jj] == -1):\n",
    "                            board[i][j] += 1\n",
    "    \n",
    "    print()\n",
    "    for i in range(1, m + 1):\n",
    "        for j in range(1, n + 1):\n",
    "            print(\"*\", end=\" \") if board[i][j] == -1 else print(board[i][j], end=\" \")\n",
    "        print()"
   ]
  },
  {
   "cell_type": "code",
   "execution_count": 2,
   "metadata": {},
   "outputs": [
    {
     "name": "stdout",
     "output_type": "stream",
     "text": [
      ". . . . * . . . . . \n",
      ". * . . . . . * . . \n",
      ". . . . . . . * . . \n",
      "* * . . . . . . . * \n",
      ". . . . . . . . . . \n",
      "\n",
      "1 1 1 1 * 1 1 1 1 0 \n",
      "1 * 1 1 1 1 2 * 2 0 \n",
      "3 3 2 0 0 0 2 * 3 1 \n",
      "* * 1 0 0 0 1 1 2 * \n",
      "2 2 1 0 0 0 0 0 1 1 \n"
     ]
    }
   ],
   "source": [
    "minesweeper(5, 10, 0.2)"
   ]
  },
  {
   "cell_type": "code",
   "execution_count": 81,
   "metadata": {
    "collapsed": true
   },
   "outputs": [],
   "source": []
  },
  {
   "cell_type": "markdown",
   "metadata": {},
   "source": [
    "### Ex2：矩阵0变换\n",
    "给一个m×n的矩阵，如果有一个元素为0，则把该元素对应的行与列所有元素全部变成0。\n"
   ]
  },
  {
   "cell_type": "code",
   "execution_count": 1,
   "metadata": {
    "collapsed": true
   },
   "outputs": [],
   "source": [
    "# O(m+n) space complexity\n",
    "def zero(matrix):\n",
    "    m = [None] * len(matrix)\n",
    "    n = [None] * len(matrix[0])\n",
    "    for i in range(len(matrix)):\n",
    "        for j in range(len(matrix[0])):\n",
    "            if (matrix[i][j] == 0):\n",
    "                m[i] = 1\n",
    "                n[j] = 1\n",
    "                \n",
    "    for i in range(len(matrix)):\n",
    "        for j in range(len(matrix[0])):\n",
    "            if (m[i] == 1 or n[j] == 1):\n",
    "                matrix[i][j] = 0"
   ]
  },
  {
   "cell_type": "code",
   "execution_count": 2,
   "metadata": {
    "collapsed": true
   },
   "outputs": [],
   "source": [
    "matrix = [  [ 1, 1, 1, 1, 1, 0, 1, 1, 1, 1 ],\n",
    "            [ 1, 1, 1, 1, 1, 1, 1, 1, 1, 1 ],\n",
    "            [ 1, 1, 0, 1, 1, 1, 1, 1, 1, 1 ],\n",
    "            [ 1, 1, 1, 1, 1, 1, 1, 1, 1, 1 ],\n",
    "            [ 1, 1, 1, 1, 1, 1, 1, 1, 1, 1 ] ]"
   ]
  },
  {
   "cell_type": "code",
   "execution_count": 3,
   "metadata": {},
   "outputs": [
    {
     "name": "stdout",
     "output_type": "stream",
     "text": [
      "[1, 1, 1, 1, 1, 0, 1, 1, 1, 1]\n",
      "[1, 1, 1, 1, 1, 1, 1, 1, 1, 1]\n",
      "[1, 1, 0, 1, 1, 1, 1, 1, 1, 1]\n",
      "[1, 1, 1, 1, 1, 1, 1, 1, 1, 1]\n",
      "[1, 1, 1, 1, 1, 1, 1, 1, 1, 1]\n"
     ]
    }
   ],
   "source": [
    "for x in matrix:\n",
    "    print(x, sep=\" \")"
   ]
  },
  {
   "cell_type": "code",
   "execution_count": 4,
   "metadata": {},
   "outputs": [
    {
     "name": "stdout",
     "output_type": "stream",
     "text": [
      "[0, 0, 0, 0, 0, 0, 0, 0, 0, 0]\n",
      "[1, 1, 0, 1, 1, 0, 1, 1, 1, 1]\n",
      "[0, 0, 0, 0, 0, 0, 0, 0, 0, 0]\n",
      "[1, 1, 0, 1, 1, 0, 1, 1, 1, 1]\n",
      "[1, 1, 0, 1, 1, 0, 1, 1, 1, 1]\n"
     ]
    }
   ],
   "source": [
    "zero(matrix)\n",
    "for x in matrix:\n",
    "    print(x, sep=\" \")"
   ]
  },
  {
   "cell_type": "code",
   "execution_count": null,
   "metadata": {
    "collapsed": true
   },
   "outputs": [],
   "source": []
  },
  {
   "cell_type": "markdown",
   "metadata": {},
   "source": [
    "### Ex3：九宫图\n",
    "<img src=\"../images/ch02/magicsquare.jpg\" width=\"100\"/> "
   ]
  },
  {
   "cell_type": "code",
   "execution_count": 145,
   "metadata": {
    "collapsed": true
   },
   "outputs": [],
   "source": [
    "def magic_square(n):\n",
    "    magic = [[0] * (n) for i in range(n)]\n",
    "    row = n - 1\n",
    "    col = n//2\n",
    "    magic[row][col] = 1\n",
    "    \n",
    "    for i in range(2, n * n + 1):\n",
    "        try_row = (row + 1) % n\n",
    "        try_col = (col + 1) % n\n",
    "\n",
    "        if (magic[try_row][try_col] == 0):\n",
    "            row = try_row\n",
    "            col = try_col\n",
    "        else:\n",
    "            row = (row - 1 + n) % n\n",
    "        \n",
    "        magic[row][col] = i\n",
    "    \n",
    "    for x in magic:\n",
    "        print(x, sep=\" \")"
   ]
  },
  {
   "cell_type": "code",
   "execution_count": 146,
   "metadata": {},
   "outputs": [
    {
     "name": "stdout",
     "output_type": "stream",
     "text": [
      "[4, 9, 2]\n",
      "[3, 5, 7]\n",
      "[8, 1, 6]\n"
     ]
    }
   ],
   "source": [
    "magic_square(3)"
   ]
  },
  {
   "cell_type": "code",
   "execution_count": 147,
   "metadata": {},
   "outputs": [
    {
     "name": "stdout",
     "output_type": "stream",
     "text": [
      "[11, 18, 25, 2, 9]\n",
      "[10, 12, 19, 21, 3]\n",
      "[4, 6, 13, 20, 22]\n",
      "[23, 5, 7, 14, 16]\n",
      "[17, 24, 1, 8, 15]\n"
     ]
    }
   ],
   "source": [
    "magic_square(5)"
   ]
  },
  {
   "cell_type": "markdown",
   "metadata": {},
   "source": [
    "### Ex4：数独\n",
    "<img src=\"../images/ch02/sudoku.jpg\" width=\"200\"/> \n",
    "给一个填好的数独，验证是否正确。"
   ]
  },
  {
   "cell_type": "code",
   "execution_count": 4,
   "metadata": {
    "collapsed": true
   },
   "outputs": [],
   "source": [
    "matrix = [\n",
    "    [5,3,4,6,7,8,9,1,2],\n",
    "    [6,7,2,1,9,5,3,4,8],\n",
    "    [1,9,8,3,4,2,5,6,7],\n",
    "    [8,5,9,7,6,1,4,2,3],\n",
    "    [4,2,6,8,5,3,7,9,1],\n",
    "    [7,1,3,9,2,4,8,5,6],\n",
    "    [9,6,1,5,3,7,2,8,4],\n",
    "    [2,8,7,4,1,9,6,3,5],\n",
    "    [3,4,5,2,8,6,1,7,9]\n",
    "]"
   ]
  },
  {
   "cell_type": "code",
   "execution_count": 5,
   "metadata": {
    "collapsed": true
   },
   "outputs": [],
   "source": [
    "def sudoku(matrix):\n",
    "    n = len(matrix)\n",
    "    result_row = result_col = result_blk = 0\n",
    "\n",
    "    for i in range(n):\n",
    "        result_row = result_col = result_blk = 0\n",
    "        for j in range(n):\n",
    "            ## check row\n",
    "            tmp = matrix[i][j]\n",
    "            if ((result_row & (1 << (tmp-1))) == 0):\n",
    "                result_row = result_row | (1<<(tmp-1))\n",
    "            else:\n",
    "                print(\"row: \", i, j)\n",
    "                return False\n",
    "\n",
    "            ## check column\n",
    "            tmp = matrix[j][i]\n",
    "            if ((result_col & (1 << (tmp-1))) == 0):\n",
    "                result_col = result_col | (1<<(tmp-1))\n",
    "            else:\n",
    "                print(\"col: \", j, i)\n",
    "                return False\n",
    "\n",
    "            ## check block\n",
    "            idx_row = (i//3) * 3 + j//3\n",
    "            idx_col = (i%3)  * 3 + j%3\n",
    "            tmp = matrix[idx_row][idx_col]\n",
    "            if ((result_blk & (1 << (tmp-1))) == 0):\n",
    "                result_blk = result_blk | (1<<(tmp-1))\n",
    "            else:\n",
    "                print(\"block: \", idx_row, idx_col)\n",
    "                return False\n",
    "    return True"
   ]
  },
  {
   "cell_type": "code",
   "execution_count": 6,
   "metadata": {},
   "outputs": [
    {
     "data": {
      "text/plain": [
       "True"
      ]
     },
     "execution_count": 6,
     "metadata": {},
     "output_type": "execute_result"
    }
   ],
   "source": [
    "sudoku(matrix)"
   ]
  },
  {
   "cell_type": "code",
   "execution_count": null,
   "metadata": {
    "collapsed": true
   },
   "outputs": [],
   "source": []
  },
  {
   "cell_type": "markdown",
   "metadata": {},
   "source": [
    "### Ex5：旋转数组\n",
    "给一个n×n的数组，旋转90度。\n"
   ]
  },
  {
   "cell_type": "code",
   "execution_count": 169,
   "metadata": {
    "collapsed": true
   },
   "outputs": [],
   "source": [
    "def rotate(matrix):\n",
    "    n = len(matrix)\n",
    "    result = [[0] * (n) for i in range(n)]\n",
    "    \n",
    "    for i in range(n):\n",
    "        for j in range(n):\n",
    "            result[j][n-1-i] = matrix[i][j]\n",
    "    \n",
    "    for x in result:\n",
    "        print(x, sep=\" \")"
   ]
  },
  {
   "cell_type": "code",
   "execution_count": 7,
   "metadata": {},
   "outputs": [
    {
     "data": {
      "text/plain": [
       "[[0, 1, 2, 3, 4],\n",
       " [5, 6, 7, 8, 9],\n",
       " [10, 11, 12, 13, 14],\n",
       " [15, 16, 17, 18, 19],\n",
       " [20, 21, 22, 23, 24]]"
      ]
     },
     "execution_count": 7,
     "metadata": {},
     "output_type": "execute_result"
    }
   ],
   "source": [
    "matrix = [[i*5+j for j in range(5)] for i in range(5)]\n",
    "matrix"
   ]
  },
  {
   "cell_type": "code",
   "execution_count": 172,
   "metadata": {},
   "outputs": [
    {
     "name": "stdout",
     "output_type": "stream",
     "text": [
      "[20, 15, 10, 5, 0]\n",
      "[21, 16, 11, 6, 1]\n",
      "[22, 17, 12, 7, 2]\n",
      "[23, 18, 13, 8, 3]\n",
      "[24, 19, 14, 9, 4]\n"
     ]
    }
   ],
   "source": [
    "rotate(matrix)"
   ]
  },
  {
   "cell_type": "code",
   "execution_count": 173,
   "metadata": {
    "collapsed": true
   },
   "outputs": [],
   "source": [
    "# in-place\n",
    "\n",
    "def rotate_in_place(matrix):\n",
    "    n = len(matrix)\n",
    "    for layer in range(n//2):\n",
    "        first = layer\n",
    "        last = n - 1 - layer\n",
    "        for i in range(first, last):\n",
    "            offset = i - first\n",
    "            top = matrix[first][i]  # save top\n",
    "            \n",
    "            ## left->top\n",
    "            matrix[first][i] = matrix[last-offset][first]\n",
    "            \n",
    "            ##bottom -> left\n",
    "            matrix[last-offset][first] = matrix[last][last - offset];\n",
    "\n",
    "            # right -> bottom\n",
    "            matrix[last][last - offset] = matrix[i][last];\n",
    "\n",
    "            # top -> right\n",
    "            matrix[i][last] = top;  # right <- saved top            \n",
    "            \n",
    "    for x in matrix:\n",
    "        print(x, sep=\" \")"
   ]
  },
  {
   "cell_type": "code",
   "execution_count": 175,
   "metadata": {},
   "outputs": [
    {
     "name": "stdout",
     "output_type": "stream",
     "text": [
      "[20, 15, 10, 5, 0]\n",
      "[21, 16, 11, 6, 1]\n",
      "[22, 17, 12, 7, 2]\n",
      "[23, 18, 13, 8, 3]\n",
      "[24, 19, 14, 9, 4]\n"
     ]
    }
   ],
   "source": [
    "matrix = [[i*5+j for j in range(5)] for i in range(5)]\n",
    "rotate(matrix)"
   ]
  },
  {
   "cell_type": "code",
   "execution_count": null,
   "metadata": {
    "collapsed": true
   },
   "outputs": [],
   "source": []
  },
  {
   "cell_type": "markdown",
   "metadata": {},
   "source": [
    "### Ex6：反转字符串\n",
    "hello => olleh"
   ]
  },
  {
   "cell_type": "code",
   "execution_count": 176,
   "metadata": {
    "collapsed": true
   },
   "outputs": [],
   "source": [
    "def reverse(s):\n",
    "    return s[::-1]"
   ]
  },
  {
   "cell_type": "code",
   "execution_count": 177,
   "metadata": {},
   "outputs": [
    {
     "data": {
      "text/plain": [
       "'olleh'"
      ]
     },
     "execution_count": 177,
     "metadata": {},
     "output_type": "execute_result"
    }
   ],
   "source": [
    "s = \"hello\"\n",
    "r = reverse(s) # O(n)\n",
    "r"
   ]
  },
  {
   "cell_type": "code",
   "execution_count": 182,
   "metadata": {
    "collapsed": true
   },
   "outputs": [],
   "source": [
    "def reverse2(s):\n",
    "    l = list(s)\n",
    "    for i in range(len(l)//2):\n",
    "        l[i], l[len(s)-1-i] = l[len(s)-1-i], l[i]\n",
    "    return ''.join(l)"
   ]
  },
  {
   "cell_type": "code",
   "execution_count": 183,
   "metadata": {},
   "outputs": [
    {
     "data": {
      "text/plain": [
       "'olleh'"
      ]
     },
     "execution_count": 183,
     "metadata": {},
     "output_type": "execute_result"
    }
   ],
   "source": [
    "s = \"hello\"\n",
    "r = reverse2(s)\n",
    "r"
   ]
  },
  {
   "cell_type": "code",
   "execution_count": null,
   "metadata": {
    "collapsed": true
   },
   "outputs": [],
   "source": [
    "def reverse2(s):\n",
    "    l = list(s)\n",
    "    begin, end = 0, len(l) - 1\n",
    "    while begin <= end\n",
    "        l[begin], l[end] = l[end], l[i]\n",
    "    return ''.join(l)"
   ]
  },
  {
   "cell_type": "code",
   "execution_count": null,
   "metadata": {
    "collapsed": true
   },
   "outputs": [],
   "source": []
  },
  {
   "cell_type": "markdown",
   "metadata": {},
   "source": [
    "### Ex7：最长连续子串\n",
    "给一个只包含0和1的数组，找出最长的全是1的子数组。\n",
    "\n",
    "Example:\n",
    "\n",
    "Input: [1,1,0,1,1,1]\n",
    "\n",
    "Output: 3\n",
    "\n"
   ]
  },
  {
   "cell_type": "code",
   "execution_count": 3,
   "metadata": {
    "collapsed": true
   },
   "outputs": [],
   "source": [
    "def find_consecutive_ones(nums):\n",
    "    local = maximum = 0\n",
    "    for i in nums:\n",
    "        local = local + 1 if i == 1 else 0\n",
    "        maximum = max(maximum, local)\n",
    "    return maximum"
   ]
  },
  {
   "cell_type": "code",
   "execution_count": 7,
   "metadata": {},
   "outputs": [
    {
     "data": {
      "text/plain": [
       "4"
      ]
     },
     "execution_count": 7,
     "metadata": {},
     "output_type": "execute_result"
    }
   ],
   "source": [
    "nums = [1,1,0,1,1,1,1,0,0,0,0,0,1,1,1,0,0,1]\n",
    "result = find_consecutive_ones(nums)\n",
    "result"
   ]
  },
  {
   "cell_type": "code",
   "execution_count": null,
   "metadata": {
    "collapsed": true
   },
   "outputs": [],
   "source": []
  },
  {
   "cell_type": "markdown",
   "metadata": {},
   "source": [
    "### Ex8：最大数\n",
    "给定一个数组，数组里有一个数组有且只有一个最大数，判断这个最大数是否是其他数的两倍或更大。如果存在这个数，则返回其index，否则返回-1。"
   ]
  },
  {
   "cell_type": "code",
   "execution_count": 12,
   "metadata": {
    "collapsed": true
   },
   "outputs": [],
   "source": [
    "# O(n) time\n",
    "# O(1) space\n",
    "def largest_twice(nums):\n",
    "    maximum = second = idx = 0\n",
    "    for i in range(len(nums)):\n",
    "        if (maximum < nums[i]):\n",
    "            second = maximum\n",
    "            maximum = nums[i]\n",
    "            idx = i\n",
    "        elif second < nums[i]:\n",
    "            second = nums[i]\n",
    "    return idx if (maximum >= second * 2) else -1"
   ]
  },
  {
   "cell_type": "code",
   "execution_count": 15,
   "metadata": {},
   "outputs": [
    {
     "data": {
      "text/plain": [
       "3"
      ]
     },
     "execution_count": 15,
     "metadata": {},
     "output_type": "execute_result"
    }
   ],
   "source": [
    "nums = [1, 2,3,8,3,2,1]\n",
    "result = largest_twice(nums)\n",
    "result"
   ]
  },
  {
   "cell_type": "code",
   "execution_count": null,
   "metadata": {
    "collapsed": true
   },
   "outputs": [],
   "source": []
  },
  {
   "cell_type": "markdown",
   "metadata": {},
   "source": [
    "### Ex9：Find All Numbers Disappeared in an Array\n",
    "\n",
    "\n",
    "Given an array of integers where 1 ≤ a[i] ≤ n (n = size of array), some elements appear twice and others appear once.\n",
    "\n",
    "Find all the elements of [1, n] inclusive that do not appear in this array.\n",
    "\n",
    "Could you do it without extra space and in O(n) runtime? You may assume the returned list does not count as extra space.\n",
    "\n",
    "Example:\n",
    "\n",
    "Input: [4,3,2,7,8,2,3,1] \n",
    "\n",
    "Output: [5,6] "
   ]
  },
  {
   "cell_type": "code",
   "execution_count": 13,
   "metadata": {
    "collapsed": true
   },
   "outputs": [],
   "source": [
    "# O(n^2)\n",
    "def findDisappearedNumbers1(nums):\n",
    "    result = []\n",
    "    for i in range(1, len(nums) + 1):\n",
    "        if (i not in nums):\n",
    "            result.append(i)\n",
    "    return result"
   ]
  },
  {
   "cell_type": "code",
   "execution_count": 15,
   "metadata": {},
   "outputs": [
    {
     "name": "stdout",
     "output_type": "stream",
     "text": [
      "[5, 6]\n"
     ]
    }
   ],
   "source": [
    "nums = [4,3,2,7,8,2,3,1]\n",
    "print(findDisappearedNumbers1(nums))"
   ]
  },
  {
   "cell_type": "code",
   "execution_count": 16,
   "metadata": {
    "collapsed": true
   },
   "outputs": [],
   "source": [
    "def findDisappearedNumbersTest1(nums):\n",
    "    start = time.time()\n",
    "    r = findDisappearedNumbers1(nums)\n",
    "    t = time.time() - start\n",
    "    return r, len(nums), t"
   ]
  },
  {
   "cell_type": "code",
   "execution_count": 17,
   "metadata": {
    "collapsed": true
   },
   "outputs": [],
   "source": [
    "import time\n",
    "import matplotlib.pyplot as plt\n",
    "import random\n",
    "import math\n",
    "%matplotlib inline  \n",
    "\n",
    "def random_list(l):\n",
    "    return [[i + 1 for i in range(l * n)] for n in range(1, 20)]"
   ]
  },
  {
   "cell_type": "code",
   "execution_count": 19,
   "metadata": {},
   "outputs": [
    {
     "data": {
      "text/plain": [
       "[([], 100, 0.0),\n",
       " ([], 200, 0.0),\n",
       " ([], 300, 0.0009999275207519531),\n",
       " ([], 400, 0.002000093460083008),\n",
       " ([], 500, 0.0029997825622558594),\n",
       " ([], 600, 0.00500035285949707),\n",
       " ([], 700, 0.004999876022338867),\n",
       " ([], 800, 0.0069997310638427734),\n",
       " ([], 900, 0.020000219345092773),\n",
       " ([], 1000, 0.011999845504760742),\n",
       " ([], 1100, 0.014000177383422852),\n",
       " ([], 1200, 0.02200007438659668),\n",
       " ([], 1300, 0.023999929428100586),\n",
       " ([], 1400, 0.02500009536743164),\n",
       " ([], 1500, 0.031999826431274414),\n",
       " ([], 1600, 0.034999847412109375),\n",
       " ([], 1700, 0.0410001277923584),\n",
       " ([], 1800, 0.04999995231628418),\n",
       " ([], 1900, 0.051000118255615234)]"
      ]
     },
     "execution_count": 19,
     "metadata": {},
     "output_type": "execute_result"
    }
   ],
   "source": [
    "random_lists = random_list(100)\n",
    "rst = [findDisappearedNumbersTest1(l) for l in random_lists]\n",
    "len(rst)\n",
    "rst"
   ]
  },
  {
   "cell_type": "code",
   "execution_count": 20,
   "metadata": {},
   "outputs": [
    {
     "data": {
      "text/plain": [
       "[<matplotlib.lines.Line2D at 0x7b5eda0>]"
      ]
     },
     "execution_count": 20,
     "metadata": {},
     "output_type": "execute_result"
    },
    {
     "data": {
      "image/png": "[encoded data removed]",
      "text/plain": [
       "<matplotlib.figure.Figure at 0x7a21e10>"
      ]
     },
     "metadata": {},
     "output_type": "display_data"
    }
   ],
   "source": [
    "x = list(zip(*rst))[1]\n",
    "y = list(zip(*rst))[2]\n",
    "\n",
    "plt.plot(x, y)"
   ]
  },
  {
   "cell_type": "code",
   "execution_count": 21,
   "metadata": {
    "collapsed": true
   },
   "outputs": [],
   "source": [
    "def findDisappearedNumbers2(nums):\n",
    "    # For each number i in nums,\n",
    "    # we mark the number that i points as negative.\n",
    "    # Then we filter the list, get all the indexes\n",
    "    # who points to a positive number\n",
    "    for i in range(len(nums)):\n",
    "        index = abs(nums[i]) - 1\n",
    "        nums[index] = - abs(nums[index])\n",
    "\n",
    "    return [i + 1 for i in range(len(nums)) if nums[i] > 0]"
   ]
  },
  {
   "cell_type": "code",
   "execution_count": 22,
   "metadata": {},
   "outputs": [
    {
     "name": "stdout",
     "output_type": "stream",
     "text": [
      "[5, 6]\n"
     ]
    }
   ],
   "source": [
    "nums = [4,3,2,7,8,2,3,1]\n",
    "print(findDisappearedNumbers2(nums))"
   ]
  },
  {
   "cell_type": "code",
   "execution_count": 23,
   "metadata": {
    "collapsed": true
   },
   "outputs": [],
   "source": [
    "# O(n)\n",
    "def findDisappearedNumbersTest2(nums):\n",
    "    start = time.time()\n",
    "    r = findDisappearedNumbers2(nums)\n",
    "    t = time.time() - start\n",
    "    return r, len(nums), t"
   ]
  },
  {
   "cell_type": "code",
   "execution_count": 24,
   "metadata": {},
   "outputs": [
    {
     "data": {
      "text/plain": [
       "[([], 100, 0.0),\n",
       " ([], 200, 0.0),\n",
       " ([], 300, 0.0),\n",
       " ([], 400, 0.0),\n",
       " ([], 500, 0.0009999275207519531),\n",
       " ([], 600, 0.0010001659393310547),\n",
       " ([], 700, 0.0009999275207519531),\n",
       " ([], 800, 0.0),\n",
       " ([], 900, 0.01399993896484375),\n",
       " ([], 1000, 0.0),\n",
       " ([], 1100, 0.0010001659393310547),\n",
       " ([], 1200, 0.0009999275207519531),\n",
       " ([], 1300, 0.0),\n",
       " ([], 1400, 0.0009999275207519531),\n",
       " ([], 1500, 0.0010001659393310547),\n",
       " ([], 1600, 0.0009999275207519531),\n",
       " ([], 1700, 0.0009999275207519531),\n",
       " ([], 1800, 0.0019998550415039062),\n",
       " ([], 1900, 0.0010004043579101562)]"
      ]
     },
     "execution_count": 24,
     "metadata": {},
     "output_type": "execute_result"
    }
   ],
   "source": [
    "random_lists = random_list(100)\n",
    "rst = [findDisappearedNumbersTest2(l) for l in random_lists]\n",
    "len(rst)\n",
    "rst"
   ]
  },
  {
   "cell_type": "code",
   "execution_count": 51,
   "metadata": {},
   "outputs": [
    {
     "data": {
      "text/plain": [
       "[<matplotlib.lines.Line2D at 0x530375f8>]"
      ]
     },
     "execution_count": 51,
     "metadata": {},
     "output_type": "execute_result"
    },
    {
     "data": {
      "image/png": "[encoded data removed]",
      "text/plain": [
       "<matplotlib.figure.Figure at 0x5278e978>"
      ]
     },
     "metadata": {},
     "output_type": "display_data"
    }
   ],
   "source": [
    "x = list(zip(*rst))[1]\n",
    "y = list(zip(*rst))[2]\n",
    "\n",
    "plt.plot(x, y)"
   ]
  },
  {
   "cell_type": "markdown",
   "metadata": {},
   "source": [
    "### Ex10：Plus One\n",
    "\n",
    "Given a non-negative integer represented as a non-empty array of digits, plus one to the integer.\n",
    "\n",
    "You may assume the integer do not contain any leading zero, except the number 0 itself.\n",
    "\n",
    "The digits are stored such that the most significant digit is at the head of the list.\n"
   ]
  },
  {
   "cell_type": "code",
   "execution_count": 10,
   "metadata": {
    "collapsed": true
   },
   "outputs": [],
   "source": [
    "def plusOne(digits):\n",
    "    if len(digits)==0:\n",
    "        return False\n",
    "    addCarry=1\n",
    "    for i in range(len(digits)-1,-1,-1):\n",
    "        digits[i]+=addCarry\n",
    "        if digits[i]==10:\n",
    "            digits[i]=0\n",
    "            if i==0:\n",
    "                digits.insert(0,1)\n",
    "        else:\n",
    "            break\n",
    "    return digits"
   ]
  },
  {
   "cell_type": "code",
   "execution_count": 12,
   "metadata": {},
   "outputs": [
    {
     "name": "stdout",
     "output_type": "stream",
     "text": [
      "[1, 2, 4]\n",
      "[1, 0, 0, 0]\n"
     ]
    }
   ],
   "source": [
    "digits = [1, 2, 3]\n",
    "print(plusOne(digits))\n",
    "digits = [9, 9, 9]\n",
    "print(plusOne(digits))"
   ]
  },
  {
   "cell_type": "code",
   "execution_count": null,
   "metadata": {
    "collapsed": true
   },
   "outputs": [],
   "source": []
  }
 ],
 "metadata": {
  "kernelspec": {
   "display_name": "Python 3",
   "language": "python",
   "name": "python3"
  },
  "language_info": {
   "codemirror_mode": {
    "name": "ipython",
    "version": 3
   },
   "file_extension": ".py",
   "mimetype": "text/x-python",
   "name": "python",
   "nbconvert_exporter": "python",
   "pygments_lexer": "ipython3",
   "version": "3.6.1"
  }
 },
 "nbformat": 4,
 "nbformat_minor": 2
}
