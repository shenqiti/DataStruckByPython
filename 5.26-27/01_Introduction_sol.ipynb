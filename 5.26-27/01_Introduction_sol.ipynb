{
 "cells": [
  {
   "cell_type": "markdown",
   "metadata": {
    "collapsed": true
   },
   "source": [
    "# Introduction\n",
    "\n",
    "### 课程安排\n",
    "<img src=\"../images/ch01/syllabus.png\" width=\"580\"/>"
   ]
  },
  {
   "cell_type": "markdown",
   "metadata": {},
   "source": [
    "### 实例一：Find Missing Number\n",
    "You are given a list of n-1 integers and these integers are in the range of 1 to n. There are no duplicates in list. One of the integers is missing in the list. Write an efficient code to find the missing integer.\n",
    "\n",
    "### 实例二：Tile Problem\n",
    "Given a 𝑛×2 board and tiles of size 1×2, count the number of ways to tile the given board using the 1×2 tiles. A tile can either be placed horizontally i.e., as a 1×2 tile or vertically i.e., as 2×1 tile.\n"
   ]
  },
  {
   "cell_type": "markdown",
   "metadata": {},
   "source": [
    "### 算法分析\n",
    "\n",
    "#### 运行时间 （时间复杂度）\n",
    "- The running time typically grows with the input size\n",
    "- Best Case: Lower bound on cost\n",
    "    - Determine by “easiest” input\n",
    "    - Provides a goal for all inputs\n",
    "- Worse Case: Upper bound on cost\n",
    "    - Determine by “most difficult” input\n",
    "    - Provides a guarantee for all inputs\n",
    "- Average case: Expected cost for random input\n",
    "    - Need a model for “random” input\n",
    "    - Provides a way to predict performance\n",
    "- Average case time is often difficult to determine\n",
    "- We focus on worst case running time\n",
    "\n",
    "<img src=\"../images/ch01/algorithmmatters.png\" width=\"580\"/>\n",
    "\n",
    "<img src=\"../images/ch01/companalysis.png\" width=\"580\"/>\n",
    "\n"
   ]
  },
  {
   "cell_type": "markdown",
   "metadata": {},
   "source": [
    "##### Utility"
   ]
  },
  {
   "cell_type": "code",
   "execution_count": 5,
   "metadata": {
    "collapsed": true
   },
   "outputs": [],
   "source": [
    "import time\n",
    "import matplotlib.pyplot as plt\n",
    "import random\n",
    "import math\n",
    "%matplotlib inline  \n",
    "\n",
    "def random_list(l):\n",
    "    return [[int(1000*random.random()) for i in range(l * n)] for n in range(1, 20)]"
   ]
  },
  {
   "cell_type": "markdown",
   "metadata": {},
   "source": [
    "### $O(1)$  -  (constant)"
   ]
  },
  {
   "cell_type": "code",
   "execution_count": 2,
   "metadata": {},
   "outputs": [
    {
     "data": {
      "text/plain": [
       "9"
      ]
     },
     "execution_count": 2,
     "metadata": {},
     "output_type": "execute_result"
    }
   ],
   "source": [
    "def square(x):\n",
    "    return x * x\n",
    "\n",
    "square(3)"
   ]
  },
  {
   "cell_type": "code",
   "execution_count": 3,
   "metadata": {
    "collapsed": true
   },
   "outputs": [],
   "source": [
    "def first(x):\n",
    "    start = time.time()\n",
    "    r = x[0]\n",
    "    t = time.time() - start\n",
    "    return r, len(x), t\n",
    "\n",
    "def middle(x):\n",
    "    start = time.time()\n",
    "    r = x[len(x)//2]\n",
    "    t = time.time() - start\n",
    "    return r, len(x), t\n",
    "\n",
    "def last(x):\n",
    "    start = time.time()\n",
    "    r = x[-1]\n",
    "    t = time.time() - start\n",
    "    return r, len(x), t"
   ]
  },
  {
   "cell_type": "code",
   "execution_count": 4,
   "metadata": {},
   "outputs": [
    {
     "data": {
      "text/plain": [
       "[(458, 100000, 0.0),\n",
       " (319, 200000, 0.0),\n",
       " (311, 300000, 0.0),\n",
       " (968, 400000, 0.0),\n",
       " (421, 500000, 0.0),\n",
       " (473, 600000, 0.0),\n",
       " (170, 700000, 0.0),\n",
       " (838, 800000, 0.0),\n",
       " (328, 900000, 0.0),\n",
       " (793, 1000000, 0.0),\n",
       " (799, 1100000, 0.0),\n",
       " (580, 1200000, 0.0),\n",
       " (726, 1300000, 0.0),\n",
       " (331, 1400000, 0.0),\n",
       " (423, 1500000, 0.0),\n",
       " (892, 1600000, 0.0),\n",
       " (176, 1700000, 0.0),\n",
       " (191, 1800000, 0.0),\n",
       " (590, 1900000, 0.0)]"
      ]
     },
     "execution_count": 4,
     "metadata": {},
     "output_type": "execute_result"
    }
   ],
   "source": [
    "random_lists = random_list(100000)\n",
    "rst = [last(l) for l in random_lists]\n",
    "len(rst)\n",
    "rst"
   ]
  },
  {
   "cell_type": "code",
   "execution_count": 5,
   "metadata": {
    "scrolled": true
   },
   "outputs": [
    {
     "data": {
      "text/plain": [
       "[<matplotlib.lines.Line2D at 0x2d9b55f8>]"
      ]
     },
     "execution_count": 5,
     "metadata": {},
     "output_type": "execute_result"
    },
    {
     "data": {
      "image/png": "[encoded data removed]",
      "text/plain": [
       "<matplotlib.figure.Figure at 0x8c2cfd0>"
      ]
     },
     "metadata": {},
     "output_type": "display_data"
    }
   ],
   "source": [
    "x = list(zip(*rst))[1]\n",
    "y = list(zip(*rst))[2]\n",
    "\n",
    "plt.plot(x, y)"
   ]
  },
  {
   "cell_type": "markdown",
   "metadata": {},
   "source": [
    "### $O(n)$"
   ]
  },
  {
   "cell_type": "code",
   "execution_count": 6,
   "metadata": {
    "collapsed": true
   },
   "outputs": [],
   "source": [
    "def find_max(l):\n",
    "    start = time.time()\n",
    "    \n",
    "    if l == None:\n",
    "        return None\n",
    "    mx = l[0]\n",
    "    for n in l:\n",
    "        if n > mx:\n",
    "            mx = n\n",
    "            \n",
    "    t = time.time() - start\n",
    "    \n",
    "    return mx, len(l), t"
   ]
  },
  {
   "cell_type": "code",
   "execution_count": 7,
   "metadata": {},
   "outputs": [
    {
     "data": {
      "text/plain": [
       "[(999, 20000, 0.0009999275207519531),\n",
       " (999, 40000, 0.004000186920166016),\n",
       " (999, 60000, 0.003999948501586914),\n",
       " (999, 80000, 0.005000114440917969),\n",
       " (999, 100000, 0.004999876022338867),\n",
       " (999, 120000, 0.0070002079010009766),\n",
       " (999, 140000, 0.0069997310638427734),\n",
       " (999, 160000, 0.007999897003173828),\n",
       " (999, 180000, 0.009000301361083984),\n",
       " (999, 200000, 0.009999752044677734),\n",
       " (999, 220000, 0.012000083923339844),\n",
       " (999, 240000, 0.012000083923339844),\n",
       " (999, 260000, 0.012999773025512695),\n",
       " (999, 280000, 0.014000177383422852),\n",
       " (999, 300000, 0.016000032424926758),\n",
       " (999, 320000, 0.016000032424926758),\n",
       " (999, 340000, 0.01699995994567871),\n",
       " (999, 360000, 0.021000146865844727),\n",
       " (999, 380000, 0.01999974250793457)]"
      ]
     },
     "execution_count": 7,
     "metadata": {},
     "output_type": "execute_result"
    }
   ],
   "source": [
    "random_lists = random_list(20000)\n",
    "rst = [find_max(l) for l in random_lists]\n",
    "len(rst)\n",
    "rst"
   ]
  },
  {
   "cell_type": "code",
   "execution_count": 8,
   "metadata": {},
   "outputs": [
    {
     "data": {
      "text/plain": [
       "[<matplotlib.lines.Line2D at 0x36a893c8>]"
      ]
     },
     "execution_count": 8,
     "metadata": {},
     "output_type": "execute_result"
    },
    {
     "data": {
      "image/png": "[encoded data removed]",
      "text/plain": [
       "<matplotlib.figure.Figure at 0x8c2c438>"
      ]
     },
     "metadata": {},
     "output_type": "display_data"
    }
   ],
   "source": [
    "x = list(zip(*rst))[1]\n",
    "y = list(zip(*rst))[2]\n",
    "\n",
    "plt.plot(x, y)"
   ]
  },
  {
   "cell_type": "markdown",
   "metadata": {},
   "source": [
    "### $O(nlgn)$"
   ]
  },
  {
   "cell_type": "code",
   "execution_count": 9,
   "metadata": {
    "collapsed": true
   },
   "outputs": [],
   "source": [
    "def mysort(l):\n",
    "    start = time.time()\n",
    "    l.sort()\n",
    "    t = time.time() - start\n",
    "    return l[0], len(l), t"
   ]
  },
  {
   "cell_type": "code",
   "execution_count": 10,
   "metadata": {},
   "outputs": [
    {
     "data": {
      "text/plain": [
       "[(0, 10000, 0.002000093460083008),\n",
       " (0, 20000, 0.006000041961669922),\n",
       " (0, 30000, 0.007999897003173828),\n",
       " (0, 40000, 0.01100015640258789),\n",
       " (0, 50000, 0.01399993896484375),\n",
       " (0, 60000, 0.01699995994567871),\n",
       " (0, 70000, 0.01900005340576172),\n",
       " (0, 80000, 0.023000240325927734),\n",
       " (0, 90000, 0.02499985694885254),\n",
       " (0, 100000, 0.028999805450439453),\n",
       " (0, 110000, 0.032000064849853516),\n",
       " (0, 120000, 0.03400015830993652),\n",
       " (0, 130000, 0.037999868392944336),\n",
       " (0, 140000, 0.042999982833862305),\n",
       " (0, 150000, 0.042999982833862305),\n",
       " (0, 160000, 0.04699993133544922),\n",
       " (0, 170000, 0.04900002479553223),\n",
       " (0, 180000, 0.051000118255615234),\n",
       " (0, 190000, 0.05500006675720215)]"
      ]
     },
     "execution_count": 10,
     "metadata": {},
     "output_type": "execute_result"
    }
   ],
   "source": [
    "random_lists = random_list(10000)\n",
    "rst = [mysort(l) for l in random_lists]\n",
    "len(rst)\n",
    "rst"
   ]
  },
  {
   "cell_type": "code",
   "execution_count": 11,
   "metadata": {},
   "outputs": [
    {
     "data": {
      "text/plain": [
       "[<matplotlib.lines.Line2D at 0x2da4f0f0>]"
      ]
     },
     "execution_count": 11,
     "metadata": {},
     "output_type": "execute_result"
    },
    {
     "data": {
      "image/png": "[encoded data removed]",
      "text/plain": [
       "<matplotlib.figure.Figure at 0x9758cf8>"
      ]
     },
     "metadata": {},
     "output_type": "display_data"
    }
   ],
   "source": [
    "x = list(zip(*rst))[1]\n",
    "y = list(zip(*rst))[2]\n",
    "\n",
    "plt.plot(x, y)"
   ]
  },
  {
   "cell_type": "markdown",
   "metadata": {},
   "source": [
    "### $O(n^2)$"
   ]
  },
  {
   "cell_type": "code",
   "execution_count": 12,
   "metadata": {
    "collapsed": true
   },
   "outputs": [],
   "source": [
    "def has_duplicate(l):\n",
    "    start = time.time()\n",
    "    \n",
    "    rst = False\n",
    "    for i in range(len(l)):\n",
    "        for j in range(i + 1, len(l)):\n",
    "            if l[i] == l[j]:\n",
    "                rst = True\n",
    "        \n",
    "    t = time.time() - start\n",
    "    \n",
    "    return rst, len(l), t"
   ]
  },
  {
   "cell_type": "code",
   "execution_count": 13,
   "metadata": {},
   "outputs": [
    {
     "data": {
      "text/plain": [
       "[<matplotlib.lines.Line2D at 0xc1c2a20>]"
      ]
     },
     "execution_count": 13,
     "metadata": {},
     "output_type": "execute_result"
    },
    {
     "data": {
      "image/png": "[encoded data removed]",
      "text/plain": [
       "<matplotlib.figure.Figure at 0x9764358>"
      ]
     },
     "metadata": {},
     "output_type": "display_data"
    }
   ],
   "source": [
    "random_lists = random_list(1000)\n",
    "rst = [has_duplicate(l) for l in random_lists]\n",
    "\n",
    "x = list(zip(*rst))[1]\n",
    "y = list(zip(*rst))[2]\n",
    "\n",
    "plt.plot(x, y)"
   ]
  },
  {
   "cell_type": "code",
   "execution_count": null,
   "metadata": {
    "collapsed": true
   },
   "outputs": [],
   "source": []
  },
  {
   "cell_type": "markdown",
   "metadata": {},
   "source": [
    "# Array\n"
   ]
  },
  {
   "cell_type": "markdown",
   "metadata": {},
   "source": [
    "### Ex1：计算一元二次方程解\n",
    "<img src=\"../images/ch01/Ex1.jpg\" width=\"380\" align=\"left\"/>"
   ]
  },
  {
   "cell_type": "code",
   "execution_count": 58,
   "metadata": {
    "collapsed": true
   },
   "outputs": [],
   "source": [
    "def solve(a, b, c):\n",
    "    r = pow(b, 2) - 4 * a * c\n",
    "    if (r < 0):\n",
    "        raise ValueError(\"No Solution\") \n",
    "    return (-b + math.sqrt(r)) / (2 * a), (-b - math.sqrt(r)) / (2 * a)"
   ]
  },
  {
   "cell_type": "code",
   "execution_count": 59,
   "metadata": {},
   "outputs": [
    {
     "data": {
      "text/plain": [
       "(-0.2679491924311228, -3.732050807568877)"
      ]
     },
     "execution_count": 59,
     "metadata": {},
     "output_type": "execute_result"
    }
   ],
   "source": [
    "solve(1, 4, 1)"
   ]
  },
  {
   "cell_type": "code",
   "execution_count": null,
   "metadata": {
    "collapsed": true
   },
   "outputs": [],
   "source": []
  },
  {
   "cell_type": "markdown",
   "metadata": {},
   "source": [
    "### Ex2：Singing Contest\n",
    "一个歌唱比赛的歌手打分，我们设计一个程序帮助现场去掉一个最低分和一个最高分，再计算一个平均分。\n",
    "\n",
    "例如分数为: [8,9,5,10,9.5,8,7,9,9.5] 则去掉最低分 [8,9,5,10,9.5,8,9,9.5]"
   ]
  },
  {
   "cell_type": "code",
   "execution_count": 61,
   "metadata": {},
   "outputs": [
    {
     "data": {
      "text/plain": [
       "(8.642857142857142, 7, 0.0)"
      ]
     },
     "execution_count": 61,
     "metadata": {},
     "output_type": "execute_result"
    }
   ],
   "source": [
    "def singing_score(values):\n",
    "    start = time.time()\n",
    "    small_pos = 0\n",
    "    for i in range(1, len(values)):\n",
    "        if values[i] < values[small_pos] :\n",
    "            small_pos = i\n",
    "            \n",
    "    high_pos = 0\n",
    "    for i in range(1, len(values)):\n",
    "        if values[i] > values[high_pos] :\n",
    "            high_pos = i\n",
    "    values.remove(values[small_pos])\n",
    "    values.remove(values[high_pos])\n",
    "    rst = sum(values)/len(values)\n",
    "    t = time.time() - start\n",
    "    return rst, len(values), t\n",
    "\n",
    "#Find the min and max\n",
    "#Remove it from the list.\n",
    "values =  [8,9,5,10,5,8,7,9,9.5]\n",
    "singing_score(values)"
   ]
  },
  {
   "cell_type": "code",
   "execution_count": 87,
   "metadata": {},
   "outputs": [
    {
     "data": {
      "text/plain": [
       "[(498.439978799576, 100000, 0.024000167846679688),\n",
       " (500.4718547185472, 200000, 0.05900001525878906),\n",
       " (499.1831078873859, 300000, 0.07299995422363281),\n",
       " (499.2972989864949, 400000, 0.09500002861022949),\n",
       " (499.8185192740771, 500000, 0.12099981307983398),\n",
       " (499.9600065333551, 600000, 0.14599990844726562),\n",
       " (499.1238717824908, 700000, 0.1770002841949463),\n",
       " (499.5354288385721, 800000, 0.21799993515014648),\n",
       " (500.05994791099533, 900000, 0.21799993515014648),\n",
       " (499.44692489384977, 1000000, 0.24199986457824707),\n",
       " (499.5945147172995, 1100000, 0.26400017738342285),\n",
       " (499.3964848274747, 1200000, 0.45599985122680664),\n",
       " (499.5654662545635, 1300000, 0.5260002613067627),\n",
       " (499.41817202596, 1400000, 0.5279998779296875),\n",
       " (499.6410621880829, 1500000, 0.4120001792907715),\n",
       " (499.51218126522656, 1600000, 0.43599987030029297),\n",
       " (499.29720682024333, 1700000, 0.40799999237060547),\n",
       " (499.7175235750262, 1800000, 0.7309999465942383),\n",
       " (499.9473294182415, 1900000, 0.4779999256134033)]"
      ]
     },
     "execution_count": 87,
     "metadata": {},
     "output_type": "execute_result"
    }
   ],
   "source": [
    "random_lists = random_list(100000)\n",
    "rst = [singing_score(l) for l in random_lists]\n",
    "rst"
   ]
  },
  {
   "cell_type": "code",
   "execution_count": 84,
   "metadata": {},
   "outputs": [
    {
     "data": {
      "text/plain": [
       "[<matplotlib.lines.Line2D at 0x32121390>]"
      ]
     },
     "execution_count": 84,
     "metadata": {},
     "output_type": "execute_result"
    },
    {
     "data": {
      "image/png": "[encoded data removed]",
      "text/plain": [
       "<matplotlib.figure.Figure at 0xf507c18>"
      ]
     },
     "metadata": {},
     "output_type": "display_data"
    }
   ],
   "source": [
    "x = list(zip(*rst))[1]\n",
    "y = list(zip(*rst))[2]\n",
    "\n",
    "plt.plot(x, y)"
   ]
  },
  {
   "cell_type": "code",
   "execution_count": 88,
   "metadata": {
    "collapsed": true
   },
   "outputs": [],
   "source": [
    "def singing_score2(values):\n",
    "    start = time.time()\n",
    "    maxx = values[0]\n",
    "    minn = values[0]\n",
    "    summ = values[0]\n",
    "    for i in range(1, len(values)):\n",
    "        if values[i] < minn :\n",
    "            minn = values[i]\n",
    "        if values[i] > minn :\n",
    "            maxx = values[i]\n",
    "        summ += values[i]\n",
    "            \n",
    "    rst = summ / (len(values)-2)\n",
    "    t = time.time() - start\n",
    "    return rst, len(values), t"
   ]
  },
  {
   "cell_type": "code",
   "execution_count": 89,
   "metadata": {},
   "outputs": [
    {
     "data": {
      "text/plain": [
       "[(498.439978799576, 100000, 0.04199981689453125),\n",
       " (500.4718547185472, 200000, 0.05500006675720215),\n",
       " (499.1831078873859, 300000, 0.08700013160705566),\n",
       " (499.2972989864949, 400000, 0.10499978065490723),\n",
       " (499.8185192740771, 500000, 0.125),\n",
       " (499.9600065333551, 600000, 0.1510000228881836),\n",
       " (499.1238717824908, 700000, 0.30900001525878906),\n",
       " (499.5354288385721, 800000, 0.44099998474121094),\n",
       " (500.05994791099533, 900000, 0.3599998950958252),\n",
       " (499.44692489384977, 1000000, 0.31100010871887207),\n",
       " (499.5945147172995, 1100000, 0.27300000190734863),\n",
       " (499.3964848274747, 1200000, 0.2869999408721924),\n",
       " (499.5654662545635, 1300000, 0.3860001564025879),\n",
       " (499.41817202596, 1400000, 0.5559999942779541),\n",
       " (499.6410621880829, 1500000, 0.3769998550415039),\n",
       " (499.51218126522656, 1600000, 0.39299988746643066),\n",
       " (499.29720682024333, 1700000, 0.4220001697540283),\n",
       " (499.7175235750262, 1800000, 0.4700000286102295),\n",
       " (499.9473294182415, 1900000, 0.45999979972839355)]"
      ]
     },
     "execution_count": 89,
     "metadata": {},
     "output_type": "execute_result"
    }
   ],
   "source": [
    "#random_lists = random_list(100000)\n",
    "rst = [singing_score2(l) for l in random_lists]\n",
    "rst"
   ]
  },
  {
   "cell_type": "code",
   "execution_count": null,
   "metadata": {
    "collapsed": true
   },
   "outputs": [],
   "source": []
  },
  {
   "cell_type": "markdown",
   "metadata": {},
   "source": [
    "### Ex3：计算 𝜋 值\n",
    "\n",
    "#### 方法一\n",
    "\n",
    "$$\n",
    "\\frac{\\pi}{4} = 1-\\frac{1}{3}+\\frac{1}{5}-\\frac{1}{7}+\\frac{1}{9}+…\n",
    "$$"
   ]
  },
  {
   "cell_type": "code",
   "execution_count": 93,
   "metadata": {
    "collapsed": true
   },
   "outputs": [],
   "source": [
    "def pi1(n):\n",
    "    pi = 0\n",
    "    sign = 1\n",
    "    for i in range(1, n + 1, 2):\n",
    "        pi += sign * (1 / i)\n",
    "        sign *= -1\n",
    "    return pi * 4"
   ]
  },
  {
   "cell_type": "code",
   "execution_count": 101,
   "metadata": {},
   "outputs": [
    {
     "data": {
      "text/plain": [
       "3.141392653591791"
      ]
     },
     "execution_count": 101,
     "metadata": {},
     "output_type": "execute_result"
    }
   ],
   "source": [
    "pi1(10000)"
   ]
  },
  {
   "cell_type": "code",
   "execution_count": 109,
   "metadata": {
    "collapsed": true
   },
   "outputs": [],
   "source": [
    "def pi2():\n",
    "    pi = 0\n",
    "    sign = 1\n",
    "    pre = 999\n",
    "    i = 1\n",
    "    delta = 0.000001\n",
    "    \n",
    "    while (abs(pi - pre) > delta):\n",
    "        pre = pi\n",
    "        pi += sign * (1 / i)\n",
    "        sign *= -1\n",
    "        i += 2\n",
    "    return pi * 4   "
   ]
  },
  {
   "cell_type": "code",
   "execution_count": 110,
   "metadata": {},
   "outputs": [
    {
     "data": {
      "text/plain": [
       "3.1415946535856922"
      ]
     },
     "execution_count": 110,
     "metadata": {},
     "output_type": "execute_result"
    }
   ],
   "source": [
    "pi2()"
   ]
  },
  {
   "cell_type": "markdown",
   "metadata": {},
   "source": [
    "### 方法二: 蒙特卡洛模拟\n",
    "想象一个圆形靶子，我们不停的向靶面射击, 命名圆内的我们算是“击中 也就是 $x^2 + y^2 ≤ 1$.<br/>\n",
    "假如我们不停的射击，直到我们把这个方形的靶子全部覆盖(打成了骰子)<br/>\n",
    "圆的面积应该是$$ S_{circle} = \\pi r^2 $$\n",
    "方形的面积应该是$$ S_{square} = a^2 $$\n",
    "也就是说 $$ S_{circle} /  S_{square} = \\pi r^2 / a^2$$\n",
    "$$ r = 1, a =2 $$\n",
    "hits / tries is approximately equal to the ratio of the areas\n",
    "of the circle\n",
    "那么$$ S_{circle} /  S_{square} = \\pi / 4$$\n",
    "那么预估的$$\\pi = 4 \\times (S_{circle} /  S_{square})$$\n",
    "<img src=\"../images/ch01/ex3.png\" width=\"280\"/>"
   ]
  },
  {
   "cell_type": "code",
   "execution_count": 113,
   "metadata": {
    "collapsed": true
   },
   "outputs": [],
   "source": [
    "from random import random\n",
    "\n",
    "def pi3(TRIES):\n",
    "    hits = 0\n",
    "    for i in range(TRIES) :\n",
    "        # Generate two random numbers between –1 and 1\n",
    "        r = random()\n",
    "        x = -1 + 2 * r\n",
    "        r = random()\n",
    "        y = -1 + 2 * r\n",
    "        # Check whether the point lies in the unit circle\n",
    "        if x * x + y * y <= 1 :\n",
    "            hits = hits + 1\n",
    "\n",
    "        # The ratio hits / tries is approximately the same as the ratio\n",
    "        # circle area / square area = pi / 4.\n",
    "    return 4.0 * hits / TRIES\n"
   ]
  },
  {
   "cell_type": "code",
   "execution_count": 116,
   "metadata": {},
   "outputs": [
    {
     "data": {
      "text/plain": [
       "3.1425508"
      ]
     },
     "execution_count": 116,
     "metadata": {},
     "output_type": "execute_result"
    }
   ],
   "source": [
    "pi3(10000000)"
   ]
  },
  {
   "cell_type": "code",
   "execution_count": null,
   "metadata": {
    "collapsed": true
   },
   "outputs": [],
   "source": []
  },
  {
   "cell_type": "markdown",
   "metadata": {},
   "source": [
    "### Ex4：乘法口诀表\n",
    "\n",
    "<img src=\"../images/ch01/ex4.png\" width=\"480\"/>"
   ]
  },
  {
   "cell_type": "code",
   "execution_count": 128,
   "metadata": {
    "collapsed": true
   },
   "outputs": [],
   "source": [
    "def mults():\n",
    "    for i in range(1,10):\n",
    "        for j in range(1, i+1):\n",
    "            print(i, \"*\", j, \"=\", i*j, end = \"   \")\n",
    "        print()       "
   ]
  },
  {
   "cell_type": "code",
   "execution_count": 129,
   "metadata": {},
   "outputs": [
    {
     "name": "stdout",
     "output_type": "stream",
     "text": [
      "1 * 1 = 1   \n",
      "2 * 1 = 2   2 * 2 = 4   \n",
      "3 * 1 = 3   3 * 2 = 6   3 * 3 = 9   \n",
      "4 * 1 = 4   4 * 2 = 8   4 * 3 = 12   4 * 4 = 16   \n",
      "5 * 1 = 5   5 * 2 = 10   5 * 3 = 15   5 * 4 = 20   5 * 5 = 25   \n",
      "6 * 1 = 6   6 * 2 = 12   6 * 3 = 18   6 * 4 = 24   6 * 5 = 30   6 * 6 = 36   \n",
      "7 * 1 = 7   7 * 2 = 14   7 * 3 = 21   7 * 4 = 28   7 * 5 = 35   7 * 6 = 42   7 * 7 = 49   \n",
      "8 * 1 = 8   8 * 2 = 16   8 * 3 = 24   8 * 4 = 32   8 * 5 = 40   8 * 6 = 48   8 * 7 = 56   8 * 8 = 64   \n",
      "9 * 1 = 9   9 * 2 = 18   9 * 3 = 27   9 * 4 = 36   9 * 5 = 45   9 * 6 = 54   9 * 7 = 63   9 * 8 = 72   9 * 9 = 81   \n"
     ]
    }
   ],
   "source": [
    "mults()"
   ]
  },
  {
   "cell_type": "code",
   "execution_count": 3,
   "metadata": {},
   "outputs": [
    {
     "data": {
      "text/plain": [
       "[(1, 1, 1),\n",
       " (2, 1, 2),\n",
       " (2, 2, 4),\n",
       " (3, 1, 3),\n",
       " (3, 2, 6),\n",
       " (3, 3, 9),\n",
       " (4, 1, 4),\n",
       " (4, 2, 8),\n",
       " (4, 3, 12),\n",
       " (4, 4, 16),\n",
       " (5, 1, 5),\n",
       " (5, 2, 10),\n",
       " (5, 3, 15),\n",
       " (5, 4, 20),\n",
       " (5, 5, 25),\n",
       " (6, 1, 6),\n",
       " (6, 2, 12),\n",
       " (6, 3, 18),\n",
       " (6, 4, 24),\n",
       " (6, 5, 30),\n",
       " (6, 6, 36),\n",
       " (7, 1, 7),\n",
       " (7, 2, 14),\n",
       " (7, 3, 21),\n",
       " (7, 4, 28),\n",
       " (7, 5, 35),\n",
       " (7, 6, 42),\n",
       " (7, 7, 49),\n",
       " (8, 1, 8),\n",
       " (8, 2, 16),\n",
       " (8, 3, 24),\n",
       " (8, 4, 32),\n",
       " (8, 5, 40),\n",
       " (8, 6, 48),\n",
       " (8, 7, 56),\n",
       " (8, 8, 64),\n",
       " (9, 1, 9),\n",
       " (9, 2, 18),\n",
       " (9, 3, 27),\n",
       " (9, 4, 36),\n",
       " (9, 5, 45),\n",
       " (9, 6, 54),\n",
       " (9, 7, 63),\n",
       " (9, 8, 72),\n",
       " (9, 9, 81)]"
      ]
     },
     "execution_count": 3,
     "metadata": {},
     "output_type": "execute_result"
    }
   ],
   "source": [
    "[(i,j,i*j) for i in range(1,10) for j in range(1, i+1)]"
   ]
  },
  {
   "cell_type": "markdown",
   "metadata": {},
   "source": [
    "### Ex5：洗牌\n",
    "\n",
    "洗牌后的每个元素随机出现在每个位置，且<B><I>概率相同</I></B>"
   ]
  },
  {
   "cell_type": "code",
   "execution_count": 294,
   "metadata": {
    "collapsed": true
   },
   "outputs": [],
   "source": [
    "import random\n",
    "\n",
    "def shuffle_system(cards):\n",
    "    random.shuffle(cards)  \n",
    "    "
   ]
  },
  {
   "cell_type": "code",
   "execution_count": 295,
   "metadata": {
    "collapsed": true
   },
   "outputs": [],
   "source": [
    "def shuffle_1st(cards):\n",
    "    for k in range(len(cards)):\n",
    "        i = random.randint(0, len(cards) - 1)\n",
    "        j = random.randint(0, len(cards) - 1)\n",
    "        cards[i], cards[j] = cards[j], cards[i]"
   ]
  },
  {
   "cell_type": "code",
   "execution_count": 296,
   "metadata": {
    "collapsed": true
   },
   "outputs": [],
   "source": [
    "def shuffle_correct(cards):\n",
    "    for i in range(len(cards)):\n",
    "        randomi = i + random.randint(0, (len(cards) - i - 1))\n",
    "        cards[i], cards[randomi] = cards[randomi], cards[i]\n"
   ]
  },
  {
   "cell_type": "code",
   "execution_count": 297,
   "metadata": {},
   "outputs": [
    {
     "data": {
      "text/plain": [
       "[0, 1, 2, 3, 4, 5, 6, 7, 8, 9]"
      ]
     },
     "execution_count": 297,
     "metadata": {},
     "output_type": "execute_result"
    }
   ],
   "source": [
    "A = [i for i in range(0, 10)]\n",
    "A"
   ]
  },
  {
   "cell_type": "code",
   "execution_count": 298,
   "metadata": {
    "collapsed": true
   },
   "outputs": [],
   "source": [
    "shuffle_system(A)"
   ]
  },
  {
   "cell_type": "code",
   "execution_count": 299,
   "metadata": {},
   "outputs": [
    {
     "data": {
      "text/plain": [
       "[9, 6, 0, 3, 8, 1, 5, 7, 4, 2]"
      ]
     },
     "execution_count": 299,
     "metadata": {},
     "output_type": "execute_result"
    }
   ],
   "source": [
    "A"
   ]
  },
  {
   "cell_type": "code",
   "execution_count": 305,
   "metadata": {
    "collapsed": true
   },
   "outputs": [],
   "source": [
    "def test_shuffle(f):\n",
    "    result = [[0 for i in range(10)] for j in range(10)]\n",
    "\n",
    "    for i in range(1000):\n",
    "        A = [i for i in range(0, 10)]\n",
    "        f(A)\n",
    "        for j in range(len(A)):\n",
    "            result[A[j]][j] += 1\n",
    "        \n",
    "    print('\\n'.join([''.join(['{:6}'.format(item) for item in row]) \n",
    "          for row in result]))"
   ]
  },
  {
   "cell_type": "code",
   "execution_count": 306,
   "metadata": {},
   "outputs": [
    {
     "name": "stdout",
     "output_type": "stream",
     "text": [
      "    87   104   102   110   117    86    98   101    86   109\n",
      "   105   115   111    85   103   109    99   100    92    81\n",
      "   101    99    93   104   103   110    92    92   101   105\n",
      "   115   101    96    84   108   114    90   109    95    88\n",
      "   110   100    98   105    88    85    97   101    99   117\n",
      "   104   105   113    97    84   100   109    89   120    79\n",
      "    87    91    97   104   109    86   111   108   101   106\n",
      "    83    91   100   114   100    87   101   102   111   111\n",
      "   103    94    97   100    99   106    98   101    96   106\n",
      "   105   100    93    97    89   117   105    97    99    98\n"
     ]
    }
   ],
   "source": [
    "test_shuffle(shuffle_system)"
   ]
  },
  {
   "cell_type": "code",
   "execution_count": 307,
   "metadata": {},
   "outputs": [
    {
     "name": "stdout",
     "output_type": "stream",
     "text": [
      "   105   104   128   107   103    96    79   113    81    84\n",
      "    92    97   103    90    99    99    98    97   113   112\n",
      "   107   103   100    93    99    93    99   103   107    96\n",
      "   106   104    91    98    88   107   121    84    90   111\n",
      "   103   109   106    80   106   106    98   100    98    94\n",
      "   100   100   106   102    85    98   100   102   101   106\n",
      "    87    84    96   126    98    85   107   111   111    95\n",
      "   106    86    93   108   103   110   101    97    95   101\n",
      "    96   117    86   102   107    97   104    89    99   103\n",
      "    98    96    91    94   112   109    93   104   105    98\n"
     ]
    }
   ],
   "source": [
    "test_shuffle(shuffle_correct)"
   ]
  },
  {
   "cell_type": "code",
   "execution_count": 308,
   "metadata": {},
   "outputs": [
    {
     "name": "stdout",
     "output_type": "stream",
     "text": [
      "   202   103    85    88    92    87    82    91    91    79\n",
      "    95   193    93   101    89    85    93    84    91    76\n",
      "    99    96   176    96    76   101   101    76    90    89\n",
      "   105    76    92   185    94    97    90    85    74   102\n",
      "    81    79    98    90   197    91    87   101    97    79\n",
      "    89    91    90    80   100   190    89    89    93    89\n",
      "    92    90    88    98    75    88   190    98    81   100\n",
      "    87    85    95    80   105    94    87   179    97    91\n",
      "    78   106    83    83    81    79    86    93   201   110\n",
      "    72    81   100    99    91    88    95   104    85   185\n"
     ]
    }
   ],
   "source": [
    "test_shuffle(shuffle_1st)"
   ]
  },
  {
   "cell_type": "code",
   "execution_count": null,
   "metadata": {
    "collapsed": true
   },
   "outputs": [],
   "source": []
  },
  {
   "cell_type": "markdown",
   "metadata": {},
   "source": [
    "### Ex6：Coupon Collector\n",
    "\n",
    "Suppose that you have a shuffled deck of cards and you turn them face up, one by one. How many cards do you need to turn up before you have seen one of each suit? Given N distinct card types, how many random cards do you need do collect before you have (at least) one of each type? \n"
   ]
  },
  {
   "cell_type": "code",
   "execution_count": 6,
   "metadata": {},
   "outputs": [
    {
     "name": "stdout",
     "output_type": "stream",
     "text": [
      "32\n"
     ]
    }
   ],
   "source": [
    "def coupon(n):\n",
    "    found = [False] * n\n",
    "    count = 0\n",
    "    distinct = 0\n",
    "    while (distinct < n):\n",
    "        val = random.randint(0, n-1)\n",
    "        if (not found[val]):\n",
    "            distinct += 1\n",
    "            found[val] = True\n",
    "        count += 1\n",
    "    print(count)\n",
    "    \n",
    "coupon(10)"
   ]
  },
  {
   "cell_type": "code",
   "execution_count": null,
   "metadata": {
    "collapsed": true
   },
   "outputs": [],
   "source": []
  },
  {
   "cell_type": "markdown",
   "metadata": {},
   "source": [
    "### Ex7：数质数\n",
    "\n",
    "给定一个正整数n，计算出小于等于n的质数有多少个。\n",
    "比如17，则返回7，因为小于等于7的质数有2，3，5，7，13，17"
   ]
  },
  {
   "cell_type": "code",
   "execution_count": 318,
   "metadata": {
    "collapsed": true
   },
   "outputs": [],
   "source": [
    "def count_prime(n):\n",
    "    is_prime = [True] * (n + 1)\n",
    "    i = 2\n",
    "    while (i * i <= n):\n",
    "        if (is_prime[i]):\n",
    "            j = i\n",
    "            while (j * i <= n):\n",
    "                is_prime[i * j] = False\n",
    "                j += 1\n",
    "        i += 1\n",
    "        \n",
    "    count = 0\n",
    "    for i in range(2, n+1):\n",
    "        if (is_prime[i]):\n",
    "            count += 1\n",
    "            print(i, end = \" \")\n",
    "            \n",
    "    return count\n",
    "        "
   ]
  },
  {
   "cell_type": "code",
   "execution_count": 321,
   "metadata": {},
   "outputs": [
    {
     "name": "stdout",
     "output_type": "stream",
     "text": [
      "2 3 5 7 11 13 17 19 23 29 31 37 41 43 47 53 59 61 67 71 73 79 83 89 97 "
     ]
    },
    {
     "data": {
      "text/plain": [
       "25"
      ]
     },
     "execution_count": 321,
     "metadata": {},
     "output_type": "execute_result"
    }
   ],
   "source": [
    "count_prime(100)"
   ]
  },
  {
   "cell_type": "code",
   "execution_count": null,
   "metadata": {
    "collapsed": true
   },
   "outputs": [],
   "source": []
  },
  {
   "cell_type": "markdown",
   "metadata": {},
   "source": [
    "### Ex8：哥德巴赫猜想\n",
    "任一大于2的偶数，都可表示成两个质数之和。\n"
   ]
  },
  {
   "cell_type": "code",
   "execution_count": 325,
   "metadata": {
    "collapsed": true
   },
   "outputs": [],
   "source": [
    "def goldbach(n):\n",
    "    is_prime = [True] * (n + 1)\n",
    "    i = 2\n",
    "    while (i * i <= n):\n",
    "        if (is_prime[i]):\n",
    "            j = i\n",
    "            while (j * i <= n):\n",
    "                is_prime[i * j] = False\n",
    "                j += 1\n",
    "        i += 1\n",
    "        \n",
    "    count = 0\n",
    "    for i in range(2, n+1):\n",
    "        if (is_prime[i]):\n",
    "            count += 1\n",
    "            \n",
    "    primes = [None] * count\n",
    "    idx = 0\n",
    "    for i in range(2, n + 1):\n",
    "        if (is_prime[i]):\n",
    "            primes[idx] = i\n",
    "            idx += 1\n",
    "    \n",
    "    left = 0\n",
    "    right = count - 1\n",
    "    while (left < right):\n",
    "        if (n == primes[left] + primes[right]):\n",
    "            print(n,\" = \", primes[left], \" + \", primes[right])\n",
    "            left += 1\n",
    "            right -= 1\n",
    "        elif (n > primes[left] + primes[right]):\n",
    "            left += 1\n",
    "        else:\n",
    "            right -= 1"
   ]
  },
  {
   "cell_type": "code",
   "execution_count": 328,
   "metadata": {},
   "outputs": [
    {
     "name": "stdout",
     "output_type": "stream",
     "text": [
      "100  =  3  +  97\n",
      "100  =  11  +  89\n",
      "100  =  17  +  83\n",
      "100  =  29  +  71\n",
      "100  =  41  +  59\n",
      "100  =  47  +  53\n"
     ]
    }
   ],
   "source": [
    "goldbach(100)"
   ]
  },
  {
   "cell_type": "markdown",
   "metadata": {
    "collapsed": true
   },
   "source": [
    "### Ex9：1-bit and 2-bit Characters"
   ]
  },
  {
   "cell_type": "code",
   "execution_count": 11,
   "metadata": {
    "collapsed": true
   },
   "outputs": [],
   "source": [
    "def oneEnd(bits):\n",
    "    i = 0\n",
    "    while i < len(bits) - 1:\n",
    "        i += bits[i] + 1\n",
    "    return i == len(bits) - 1 and bits[i] == 0"
   ]
  },
  {
   "cell_type": "code",
   "execution_count": 12,
   "metadata": {},
   "outputs": [
    {
     "name": "stdout",
     "output_type": "stream",
     "text": [
      "True\n",
      "False\n"
     ]
    }
   ],
   "source": [
    "bits = [1,0,0]\n",
    "print(oneEnd(bits))\n",
    "bits = [1, 1, 1, 0, 1]\n",
    "print(oneEnd(bits))"
   ]
  },
  {
   "cell_type": "code",
   "execution_count": null,
   "metadata": {
    "collapsed": true
   },
   "outputs": [],
   "source": []
  }
 ],
 "metadata": {
  "kernelspec": {
   "display_name": "Python 3",
   "language": "python",
   "name": "python3"
  },
  "language_info": {
   "codemirror_mode": {
    "name": "ipython",
    "version": 3
   },
   "file_extension": ".py",
   "mimetype": "text/x-python",
   "name": "python",
   "nbconvert_exporter": "python",
   "pygments_lexer": "ipython3",
   "version": "3.6.1"
  }
 },
 "nbformat": 4,
 "nbformat_minor": 2
}
