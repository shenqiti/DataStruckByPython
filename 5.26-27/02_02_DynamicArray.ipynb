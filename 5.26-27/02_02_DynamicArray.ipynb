{
 "cells": [
  {
   "cell_type": "markdown",
   "metadata": {},
   "source": [
    "# My Own ArrayList / Dynamic Array\n",
    "\n",
    "- ADT List Operations\n",
    "    - Create an empty list\n",
    "    - Determine whether the list is empty\n",
    "    - Determine the number of items in a list\n",
    "    - Add an item at given position in a list\n",
    "    - Remove the item at a given position in a list\n",
    "    - Remove all the items from a list\n",
    "    - Get the item at a given position in a list\n",
    "    - Other operations?  "
   ]
  },
  {
   "cell_type": "code",
   "execution_count": 1,
   "metadata": {
    "collapsed": true
   },
   "outputs": [],
   "source": [
    "import ctypes\n",
    "\n",
    "class DynamicArray:\n",
    "    \n",
    "    def __init__ (self):\n",
    "        'Create an empty array.'\n",
    "        self._n = 0 #size\n",
    "        self._capacity = 10\n",
    "        self._A = self._make_array(self._capacity)\n",
    "        \n",
    "    # len(list)\n",
    "    def __len__ (self):\n",
    "        return self._n\n",
    "    \n",
    "    def is_empty(self):\n",
    "        return self._n == 0\n",
    "    \n",
    "    # O(1)\n",
    "    def __getitem__ (self, k):\n",
    "        if not 0 <= k < self._n:\n",
    "            raise ValueError('invalid index') \n",
    "        return self._A[k]\n",
    "       \n",
    "    # O(1) \n",
    "    def append(self, obj):\n",
    "        if self._n == self._capacity:\n",
    "            self._resize(2 * self._capacity)\n",
    "        self._A[self._n] = obj    \n",
    "        self._n += 1\n",
    "        \n",
    "    def _make_array(self, c):\n",
    "        return (c * ctypes.py_object)( )\n",
    "    \n",
    "    def _resize(self, c):\n",
    "        B = self._make_array(c)\n",
    "        for k in range(self._n):\n",
    "            B[k] = self._A[k]\n",
    "        self._A = B\n",
    "        self._capacity = c   \n",
    "\n",
    "    # O(n)\n",
    "    def insert(self, k, value):\n",
    "        if self._n == self._capacity:\n",
    "            self._resize(2 * self._capacity)\n",
    "        for j in range(self._n, k, -1):\n",
    "            self._A[j] = self._A[j-1]\n",
    "        self._A[k] = value\n",
    "        self._n += 1\n",
    "     \n",
    "    # O(n)    \n",
    "    def remove(self, value):\n",
    "        for k in range(self._n):\n",
    "            if self._A[k] == value:\n",
    "                for j in range(k, self._n - 1):\n",
    "                    self._A[j] = self._A[j+1]\n",
    "                self._A[self._n - 1] = None\n",
    "                self._n -= 1\n",
    "                return\n",
    "        raise ValueError( 'value not found' )\n",
    "    \n",
    "    def _print(self):\n",
    "        for i in range(self._n):\n",
    "            print(self._A[i], end = ' ')\n",
    "        print()"
   ]
  },
  {
   "cell_type": "code",
   "execution_count": 2,
   "metadata": {},
   "outputs": [
    {
     "name": "stdout",
     "output_type": "stream",
     "text": [
      "size was:  0\n",
      "0 5 10 15 20 30 \n",
      "0 5 10 15 30 \n",
      "size is:  5\n"
     ]
    }
   ],
   "source": [
    "mylist = DynamicArray()\n",
    "print ('size was: ', str(len(mylist)))\n",
    "mylist.append(10)\n",
    "mylist.append(20)\n",
    "mylist.append(30)\n",
    "mylist.insert(0, 0)\n",
    "mylist.insert(1, 5)\n",
    "mylist.insert(3, 15)\n",
    "mylist._print()\n",
    "mylist.remove(20)\n",
    "mylist._print()\n",
    "\n",
    "print ('size is: ', str(len(mylist)))"
   ]
  },
  {
   "cell_type": "code",
   "execution_count": null,
   "metadata": {
    "collapsed": true
   },
   "outputs": [],
   "source": []
  }
 ],
 "metadata": {
  "kernelspec": {
   "display_name": "Python 3",
   "language": "python",
   "name": "python3"
  },
  "language_info": {
   "codemirror_mode": {
    "name": "ipython",
    "version": 3
   },
   "file_extension": ".py",
   "mimetype": "text/x-python",
   "name": "python",
   "nbconvert_exporter": "python",
   "pygments_lexer": "ipython3",
   "version": "3.6.1"
  }
 },
 "nbformat": 4,
 "nbformat_minor": 2
}
